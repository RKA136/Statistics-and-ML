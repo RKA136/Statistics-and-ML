{
 "cells": [
  {
   "cell_type": "markdown",
   "id": "69c4894e",
   "metadata": {},
   "source": [
    "# Headers"
   ]
  },
  {
   "cell_type": "code",
   "execution_count": 1,
   "id": "ef11c8a1",
   "metadata": {},
   "outputs": [],
   "source": [
    "# File system manangement\n",
    "import time, psutil, os\n",
    "\n",
    "# Mathematical functions\n",
    "import math\n",
    "\n",
    "# Data manipulation\n",
    "import numpy as np\n",
    "import pandas as pd\n",
    "\n",
    "# Plotting and visualization\n",
    "import matplotlib.pyplot as plt\n",
    "%matplotlib inline\n",
    "import matplotlib.patches as mpatches\n",
    "\n",
    "from mpl_toolkits.mplot3d import Axes3D\n",
    "from matplotlib.colors import ListedColormap\n",
    "from matplotlib import cm\n",
    "from mpl_toolkits.mplot3d.axes3d import get_test_data\n",
    "\n",
    "\n",
    "import numpy as np\n",
    "from sklearn import preprocessing, neighbors, svm\n",
    "from sklearn.model_selection import train_test_split\n",
    "from sklearn.metrics import ConfusionMatrixDisplay\n",
    "from sklearn.metrics import RocCurveDisplay"
   ]
  },
  {
   "cell_type": "markdown",
   "id": "dc8fbaf3",
   "metadata": {},
   "source": [
    "# Loading files\n",
    "Keep in mind I am only loading the training.zip here and then having a 80:20 split for train and test. One might as well also use the test.zip"
   ]
  },
  {
   "cell_type": "code",
   "execution_count": 2,
   "id": "ab68e29f",
   "metadata": {},
   "outputs": [],
   "source": [
    "df_train = pd.read_csv(\"training.zip\", compression='zip')\n",
    "df_train.head()\n",
    "df_train_signal = df_train[df_train.Label == 's']\n",
    "df_train_background = df_train[df_train.Label == 'b']"
   ]
  },
  {
   "cell_type": "code",
   "execution_count": 3,
   "id": "7a24b1d2",
   "metadata": {},
   "outputs": [],
   "source": [
    "X = np.array(df_train.drop(columns=['EventId', 'Label', 'Weight']).astype(float))\n",
    "y = np.array(df_train['Label'])\n",
    "X=X[:15000]\n",
    "y=y[:15000]\n",
    "X_train, X_test, y_train, y_test = train_test_split(X, y, test_size=0.2)"
   ]
  },
  {
   "cell_type": "markdown",
   "id": "407772d7",
   "metadata": {},
   "source": [
    "# Basic SVM example"
   ]
  },
  {
   "cell_type": "code",
   "execution_count": 4,
   "id": "50f5e5cb",
   "metadata": {},
   "outputs": [
    {
     "name": "stdout",
     "output_type": "stream",
     "text": [
      "0.6983333333333334\n"
     ]
    }
   ],
   "source": [
    "clf = svm.SVC(probability=True)\n",
    "clf.fit(X_train, y_train)\n",
    "confidence = clf.score(X_test, y_test)\n",
    "print(confidence)"
   ]
  }
 ],
 "metadata": {
  "kernelspec": {
   "display_name": "Python 3",
   "language": "python",
   "name": "python3"
  },
  "language_info": {
   "codemirror_mode": {
    "name": "ipython",
    "version": 3
   },
   "file_extension": ".py",
   "mimetype": "text/x-python",
   "name": "python",
   "nbconvert_exporter": "python",
   "pygments_lexer": "ipython3",
   "version": "3.11.9"
  }
 },
 "nbformat": 4,
 "nbformat_minor": 5
}
